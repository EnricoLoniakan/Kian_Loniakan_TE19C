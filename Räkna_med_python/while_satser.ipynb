{
 "metadata": {
  "language_info": {
   "codemirror_mode": {
    "name": "ipython",
    "version": 3
   },
   "file_extension": ".py",
   "mimetype": "text/x-python",
   "name": "python",
   "nbconvert_exporter": "python",
   "pygments_lexer": "ipython3",
   "version": "3.8.3-final"
  },
  "orig_nbformat": 2,
  "kernelspec": {
   "name": "python3",
   "display_name": "Python 3"
  }
 },
 "nbformat": 4,
 "nbformat_minor": 2,
 "cells": [
  {
   "cell_type": "code",
   "execution_count": 1,
   "metadata": {
    "tags": []
   },
   "outputs": [
    {
     "output_type": "stream",
     "name": "stdout",
     "text": "då\n"
    }
   ],
   "source": [
    "'''\n",
    "multieline kommentar\n",
    "\n",
    "x = 5\n",
    "print(\"hej\")\n",
    "\n",
    "'''\n",
    "print(\"då\")"
   ]
  },
  {
   "cell_type": "markdown",
   "metadata": {},
   "source": [
    "\n",
    "# While-sats\n",
    "\n",
    "Kod upprepas så länge villkoret gäller\n",
    "\n",
    "for-sats: kod upprepas ett bestämt antal gånger"
   ]
  },
  {
   "cell_type": "code",
   "execution_count": 4,
   "metadata": {
    "tags": []
   },
   "outputs": [
    {
     "output_type": "stream",
     "name": "stdout",
     "text": "jämn tal från 0-10\n0 2 4 6 8 10"
    }
   ],
   "source": [
    "\n",
    "print(\"jämn tal från 0-10\")\n",
    "\n",
    "n = 0\n",
    "while n <= 10:\n",
    "    print(n,end=\" \")\n",
    "    n += 2\n",
    "# += lägger till två för varje gång (upp till tal 10 under denna exemplet)"
   ]
  },
  {
   "cell_type": "markdown",
   "metadata": {},
   "source": [
    "\n",
    "# Miljöutsläpp\n",
    "\n",
    "Ett miljöutsläpp halverar fågelpopulation i en ö varje år.\n",
    "\n",
    "Fågelpopulationen började på 8000st\n",
    "\n",
    "Hur många år tar det tills populationen blir mindre än en tiondel?"
   ]
  },
  {
   "cell_type": "code",
   "execution_count": 6,
   "metadata": {
    "tags": []
   },
   "outputs": [
    {
     "output_type": "stream",
     "name": "stdout",
     "text": "År 0: antal fåglar: 8000st\nÅr 1: antal fåglar: 4000.0st\nÅr 2: antal fåglar: 2000.0st\nÅr 3: antal fåglar: 1000.0st\nÅr 4: antal fåglar: 500.0st\n"
    }
   ],
   "source": [
    "\n",
    "fåglar = 8000\n",
    "antal_år = 0\n",
    "\n",
    "print(f\"År {antal_år}: antal fåglar: {fåglar}st\")\n",
    "\n",
    "while fåglar >= 800:\n",
    "    fåglar /= 2\n",
    "    antal_år += 1\n",
    "    print(f\"År {antal_år}: antal fåglar: {fåglar}st\")\n"
   ]
  },
  {
   "cell_type": "code",
   "execution_count": 9,
   "metadata": {
    "tags": []
   },
   "outputs": [
    {
     "output_type": "stream",
     "name": "stdout",
     "text": "År 1: antal bilar:200st\nÅr 2: antal bilar:100.0st\nÅr 3: antal bilar:50.0st\nÅr 4: antal bilar:25.0st\nÅr 5: antal bilar:12.5st\n"
    }
   ],
   "source": [
    "\n",
    "Bilar = 200\n",
    "antal_månader = 1\n",
    "\n",
    "print(f\"År {antal_månader}: antal bilar:{Bilar}st\")\n",
    "\n",
    "while Bilar >= 20:\n",
    "    Bilar /= 2\n",
    "    antal_månader += 1\n",
    "    print(f\"År {antal_månader}: antal bilar:{Bilar}st\")"
   ]
  },
  {
   "cell_type": "code",
   "execution_count": 16,
   "metadata": {
    "tags": []
   },
   "outputs": [
    {
     "output_type": "stream",
     "name": "stdout",
     "text": "1+3+5+7+9 = 0\n"
    }
   ],
   "source": [
    "\n",
    "N = 1 #räknarvariabel\n",
    "'''\n",
    "while n < 10:\n",
    "    print(n,end = \" \")\n",
    "    n = n + 1\n",
    "    #n += 1\n",
    "'''\n",
    "\n",
    "summa = 0\n",
    "\n",
    "while n < 10:\n",
    "    summa = summa + n\n",
    "    n += 2\n",
    "\n",
    "print(f\"1+3+5+7+9 = {summa}\")"
   ]
  },
  {
   "cell_type": "code",
   "execution_count": 6,
   "metadata": {
    "tags": []
   },
   "outputs": [
    {
     "output_type": "stream",
     "name": "stdout",
     "text": "5 timmar för mjölken och 11390625.0 bakterier\nDet tar 5 timmar tills mjölken blir sur\n"
    }
   ],
   "source": [
    "'''\n",
    "1L mjölk 1500000 bakterier\n",
    "I rumstemp ökar antalet bakterier med 50% varje timme\n",
    "Mjölk blir sur när bakterierna överstiger 10000000 st\n",
    "Hur många timmar tills mjölken blir sur?\n",
    "'''\n",
    "\n",
    "b = 1500000\n",
    "\n",
    "t = 0\n",
    "\n",
    "while b < 10000000:\n",
    "    b *= 1.5\n",
    "    t += 1\n",
    "\n",
    "print(f\"{t} timmar för {b} bakterier\")\n",
    "\n",
    "print(f\"Det tar {t} timmar tills mjölken blir sur\")\n",
    "\n",
    "\n",
    "\n"
   ]
  },
  {
   "cell_type": "code",
   "execution_count": null,
   "metadata": {},
   "outputs": [],
   "source": [
    "\n"
   ]
  }
 ]
}