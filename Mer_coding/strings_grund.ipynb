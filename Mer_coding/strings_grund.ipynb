{
 "metadata": {
  "language_info": {
   "codemirror_mode": {
    "name": "ipython",
    "version": 3
   },
   "file_extension": ".py",
   "mimetype": "text/x-python",
   "name": "python",
   "nbconvert_exporter": "python",
   "pygments_lexer": "ipython3",
   "version": "3.8.3-final"
  },
  "orig_nbformat": 2,
  "kernelspec": {
   "name": "python3",
   "display_name": "Python 3"
  }
 },
 "nbformat": 4,
 "nbformat_minor": 2,
 "cells": [
  {
   "cell_type": "code",
   "execution_count": 22,
   "metadata": {},
   "outputs": [
    {
     "output_type": "stream",
     "name": "stdout",
     "text": [
      "12\nKian Loniakan\n"
     ]
    }
   ],
   "source": [
    "# [Strängar läxa 1] uppgift 1\n",
    "\n",
    "\n",
    "förnamn = input(\"förnamn:\")\n",
    "\n",
    "efternamn = input(\"namn:\")\n",
    "\n",
    "namn = förnamn + efternamn\n",
    "\n",
    "print(len(namn)) #len får till så att programmet räknar bokstaverna eller allmänt räknar bokstäver i en sträng\n",
    "\n",
    "print(f\"{förnamn.capitalize()} {efternamn.capitalize()}\") #capitalize() får första bokstaven av förnamnet och efternamnet  från liten till stor\n"
   ]
  },
  {
   "cell_type": "code",
   "execution_count": 16,
   "metadata": {},
   "outputs": [
    {
     "output_type": "stream",
     "name": "stdout",
     "text": [
      "78\n"
     ]
    }
   ],
   "source": [
    "# [Strängar läxa 1] uppgift 2\n",
    "\n",
    "\n",
    "mening = \"En bild säger mer än tusen ord, en matematisk formel säger mer än tusen bilder\"\n",
    "\n",
    "print(len(mening))"
   ]
  },
  {
   "cell_type": "code",
   "execution_count": 33,
   "metadata": {},
   "outputs": [
    {
     "output_type": "stream",
     "name": "stdout",
     "text": [
      "ebbe är = palindrom\n"
     ]
    }
   ],
   "source": [
    "# [Strängar läxa 1] uppgift 3(a)\n",
    "\n",
    "\n",
    "ord = input(\"skriv ett ord:\")\n",
    "\n",
    "\n",
    "def palindrome(s):\n",
    "    return s == s[::-1]\n",
    "\n",
    "s = ord\n",
    "ans = palindrome(s)\n",
    "\n",
    "if ans:\n",
    "    print(f\"{ord} är = palindrom\")\n",
    "else:\n",
    "    print(f\"{ord} är inte = palindrom\")"
   ]
  },
  {
   "cell_type": "code",
   "execution_count": 38,
   "metadata": {},
   "outputs": [
    {
     "output_type": "stream",
     "name": "stdout",
     "text": [
      "36\n"
     ]
    }
   ],
   "source": [
    "# [Strängar läxa 1] uppgift 4\n",
    "\n",
    "def Check_Vow(mening, vokaler): \n",
    "    antal_vokaler = [each for each in mening if each in vokaler] \n",
    "    print(len(antal_vokaler)) \n",
    "   \n",
    "\n",
    "\n",
    "vokaler = \"AaOoUuÅåEeIiYyÄäÖö\"\n",
    "\n",
    "mening = \"Do not worry about your difficulties in mathematics. I can assure you mine are stil greater.\"\n",
    "\n",
    "Check_Vow(mening, vokaler); \n"
   ]
  },
  {
   "cell_type": "code",
   "execution_count": null,
   "metadata": {},
   "outputs": [],
   "source": []
  }
 ]
}