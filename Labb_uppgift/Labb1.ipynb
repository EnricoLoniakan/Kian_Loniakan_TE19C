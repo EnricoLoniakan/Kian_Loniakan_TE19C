{
 "metadata": {
  "language_info": {
   "codemirror_mode": {
    "name": "ipython",
    "version": 3
   },
   "file_extension": ".py",
   "mimetype": "text/x-python",
   "name": "python",
   "nbconvert_exporter": "python",
   "pygments_lexer": "ipython3",
   "version": "3.8.3-final"
  },
  "orig_nbformat": 2,
  "kernelspec": {
   "name": "Python 3.8.3 64-bit ('base': conda)",
   "display_name": "Python 3.8.3 64-bit ('base': conda)",
   "metadata": {
    "interpreter": {
     "hash": "2eaaacd0844922b07587b1fa63901c629c73e072868a7618a4458663e74147c2"
    }
   }
  }
 },
 "nbformat": 4,
 "nbformat_minor": 2,
 "cells": [
  {
   "cell_type": "code",
   "execution_count": 5,
   "metadata": {},
   "outputs": [
    {
     "output_type": "stream",
     "name": "stdout",
     "text": [
      "0.7071067811865476\n"
     ]
    }
   ],
   "source": [
    "'uppgift 1 (a)'\n",
    "\n",
    "import math #Inte nödvändigt men kan hjälpa om man ska använda sig av variabler från matte\n",
    "\n",
    "i = (0.5**2+0.5**2)**0.5  # ** betyder upphöjt med/potens\n",
    "\n",
    "print(i)\n",
    "\n",
    "\n"
   ]
  },
  {
   "cell_type": "code",
   "execution_count": 6,
   "metadata": {},
   "outputs": [
    {
     "output_type": "stream",
     "name": "stdout",
     "text": [
      "1.4142135623730951\n"
     ]
    }
   ],
   "source": [
    "'uppgift 1 (b)'\n",
    "\n",
    "import math\n",
    "\n",
    "i = (1**2+1**2)**0.5\n",
    "\n",
    "print(i)"
   ]
  },
  {
   "cell_type": "code",
   "execution_count": 7,
   "metadata": {},
   "outputs": [
    {
     "output_type": "stream",
     "name": "stdout",
     "text": [
      "0.7071067811865476\n"
     ]
    }
   ],
   "source": [
    "'uppgift 1 (c)'\n",
    "\n",
    "import math \n",
    "\n",
    "i = (0.5**2+(-0.5)**2)**0.5\n",
    "\n",
    "print(i)"
   ]
  },
  {
   "cell_type": "code",
   "execution_count": 1,
   "metadata": {},
   "outputs": [
    {
     "output_type": "error",
     "ename": "SyntaxError",
     "evalue": "invalid syntax (<ipython-input-1-50a381bf8d30>, line 9)",
     "traceback": [
      "\u001b[1;36m  File \u001b[1;32m\"<ipython-input-1-50a381bf8d30>\"\u001b[1;36m, line \u001b[1;32m9\u001b[0m\n\u001b[1;33m    for x in range(2,10)\u001b[0m\n\u001b[1;37m                        ^\u001b[0m\n\u001b[1;31mSyntaxError\u001b[0m\u001b[1;31m:\u001b[0m invalid syntax\n"
     ]
    }
   ],
   "source": [
    "'uppgift 1 (d)'\n",
    "\n",
    "import random as rnd # importera random kalkylator och benäma det för rnd för att simplifiera det\n",
    "\n",
    "\n",
    "\n",
    "#X,Y = rnd.uniform(-1,1) ger en random siffra mellan -1 och 1 på X och Y\n",
    "\n",
    "for i in range(1, 11):\n",
    "    X = rnd.uniform(-1,1)\n",
    "    Y = rnd.uniform(-1,1)\n",
    "    print(X,Y)\n"
   ]
  },
  {
   "cell_type": "code",
   "execution_count": null,
   "metadata": {},
   "outputs": [],
   "source": []
  }
 ]
}