{
 "metadata": {
  "language_info": {
   "codemirror_mode": {
    "name": "ipython",
    "version": 3
   },
   "file_extension": ".py",
   "mimetype": "text/x-python",
   "name": "python",
   "nbconvert_exporter": "python",
   "pygments_lexer": "ipython3",
   "version": "3.8.3-final"
  },
  "orig_nbformat": 2,
  "kernelspec": {
   "name": "Python 3.8.3 64-bit (conda)",
   "display_name": "Python 3.8.3 64-bit (conda)",
   "metadata": {
    "interpreter": {
     "hash": "2eaaacd0844922b07587b1fa63901c629c73e072868a7618a4458663e74147c2"
    }
   }
  }
 },
 "nbformat": 4,
 "nbformat_minor": 2,
 "cells": [
  {
   "cell_type": "code",
   "execution_count": 5,
   "metadata": {},
   "outputs": [
    {
     "output_type": "stream",
     "name": "stdout",
     "text": [
      "1 2 3 4 5 6 7 8 9 10 11 12 13 14 15 16 17 18 19 20 21 22 23 24 25 26 27 28 29 30 31 32 33 34 35 36 37 38 39 40 41 42 43 44 45 46 47 48 49 50 51 52 53 54 55 56 57 58 59 60 61 62 63 64 65 66 67 68 69 70 71 72 73 74 75 76 77 78 79 80 81 82 83 84 85 86 87 88 89 90 91 92 93 94 95 96 97 98 99 100 "
     ]
    }
   ],
   "source": [
    "'uppgift 2 (a)'\n",
    "\n",
    "for i in range(1,101): \n",
    "    \n",
    "    print(i,end=\" \") # end=\" \" får till mellanrum mellan varje tal för att få upplaget att se snyggare ut och lättare att läsa"
   ]
  },
  {
   "cell_type": "code",
   "execution_count": 6,
   "metadata": {},
   "outputs": [
    {
     "output_type": "stream",
     "name": "stdout",
     "text": [
      "1\n2\n3\n4\nburr\n6\n7\n8\n9\nburr\n11\n12\n13\n14\nburr\n16\n17\n18\n19\nburr\n21\n22\n23\n24\nburr\n26\n27\n28\n29\nburr\n31\n32\n33\n34\nburr\n36\n37\n38\n39\nburr\n41\n42\n43\n44\nburr\n46\n47\n48\n49\nburr\n51\n52\n53\n54\nburr\n56\n57\n58\n59\nburr\n61\n62\n63\n64\nburr\n66\n67\n68\n69\nburr\n71\n72\n73\n74\nburr\n76\n77\n78\n79\nburr\n81\n82\n83\n84\nburr\n86\n87\n88\n89\nburr\n91\n92\n93\n94\nburr\n96\n97\n98\n99\nburr\n"
     ]
    }
   ],
   "source": [
    "'uppgift 2 (b)'\n",
    "\n",
    "for tal in range(1,101):\n",
    "    \n",
    "\n",
    "#tal%5 får till så att varje tal som kan divideras med 5 skrivs ut som burr istället för en siffra. Genom att byta ut 5an så kan man få burr till att skrivas upp vid andra siffror görs på uppgift (c)\n",
    "    if tal%5 == 0:     # == är samma sak som lika med \n",
    "        print(\"burr\")  \n",
    "    else:\n",
    "        print(tal)\n",
    "\n"
   ]
  },
  {
   "cell_type": "code",
   "execution_count": 8,
   "metadata": {},
   "outputs": [
    {
     "output_type": "stream",
     "name": "stdout",
     "text": [
      "1\nburr\n3\nburr\n5\nburr\n7\nburr\n9\nburr\n11\nburr\n13\nburr\n15\nburr\n17\nburr\n19\nburr\n21\nburr\n23\nburr\n25\nburr\n27\nburr\n29\nburr\n31\nburr\n33\nburr\n35\nburr\n37\nburr\n39\nburr\n41\nburr\n43\nburr\n45\nburr\n47\nburr\n49\nburr\n51\nburr\n53\nburr\n55\nburr\n57\nburr\n59\nburr\n61\nburr\n63\nburr\n65\nburr\n67\nburr\n69\nburr\n71\nburr\n73\nburr\n75\nburr\n77\nburr\n79\nburr\n81\nburr\n83\nburr\n85\nburr\n87\nburr\n89\nburr\n91\nburr\n93\nburr\n95\nburr\n97\nburr\n99\nburr\n"
     ]
    }
   ],
   "source": [
    "'uppgift 2 (c)'\n",
    "\n",
    "#genom int input så kan man mata in ett eget värde, gör det först till en variabel och sedan placera variabeln vid if satsen för att få till så att rätt tal matas in på rätt plats\n",
    "G = int(input(\"siffra mellan 1 & 9 för att identifiera burr: \"))\n",
    "\n",
    "for tal in range(1,101):\n",
    "    \n",
    "    if tal%G == 0:\n",
    "        print(\"burr\")\n",
    "    else:\n",
    "        print(tal)\n"
   ]
  },
  {
   "cell_type": "code",
   "execution_count": 9,
   "metadata": {},
   "outputs": [
    {
     "output_type": "stream",
     "name": "stdout",
     "text": [
      "1\n2\n3\nburr\nbirr\n6\n7\nburr\n9\nbirr\n11\nburr\n13\n14\nbirr\nburr\n17\n18\n19\nburr\n21\n22\n23\nburr\nbirr\n26\n27\nburr\n29\nbirr\n31\nburr\n33\n34\nbirr\nburr\n37\n38\n39\nburr\n41\n42\n43\nburr\nbirr\n46\n47\nburr\n49\nbirr\n51\nburr\n53\n54\nbirr\nburr\n57\n58\n59\nburr\n61\n62\n63\nburr\nbirr\n66\n67\nburr\n69\nbirr\n71\nburr\n73\n74\nbirr\nburr\n77\n78\n79\nburr\n81\n82\n83\nburr\nbirr\n86\n87\nburr\n89\nbirr\n91\nburr\n93\n94\nbirr\nburr\n97\n98\n99\nburr\n"
     ]
    }
   ],
   "source": [
    "'uppgift 2 (d)'\n",
    "\n",
    "\n",
    "G = int(input(\"siffra mellan 1 & 9 för burr: \"))\n",
    "\n",
    "E = int(input(\"siffra mellan 1 & 9 för birr: \"))\n",
    "\n",
    "for tal in range(1,101):\n",
    "    \n",
    "    if tal%G == 0:\n",
    "        print(\"burr\")\n",
    "\n",
    "    elif tal%E == 0:\n",
    "        print(\"birr\")\n",
    "\n",
    "    else:\n",
    "        print(tal)"
   ]
  },
  {
   "cell_type": "code",
   "execution_count": 24,
   "metadata": {},
   "outputs": [
    {
     "output_type": "stream",
     "name": "stdout",
     "text": [
      "1\nburr\n3\nburr\n5\nBurrBirr\n7\nburr\n9\nburr\n11\nBurrBirr\n13\nburr\n15\nburr\n17\nBurrBirr\n19\nburr\nantal Burr: 7, antal Birr: 0 och antal: 3 \n"
     ]
    }
   ],
   "source": [
    "'uppgift 2 (e)'\n",
    "\n",
    "Bu = int(input(\"siffra mellan 1 & 9 för burr: \"))\n",
    "\n",
    "Bi= int(input(\"siffra mellan 1 & 9 för birr: \"))\n",
    "\n",
    "Start = int(input(\"siffra för att verifiera start: \"))\n",
    "\n",
    "Slut = int(input(\"siffra för att verifiera slut: \"))\n",
    "\n",
    "Burr = 0\n",
    "\n",
    "Birr = 0\n",
    "\n",
    "BurrBirr = 0\n",
    "\n",
    "# på for satsen så kan man lägga + 1 så att man slipper skriva slut med ett tal högre, till exempel for tal in range(1,11) då allt under 11 skrivs ut fast inte själva 11an \n",
    "for tal in range(Start,Slut + 1):\n",
    "    \n",
    "    if tal%Bu == 0 and tal%Bi == 0:\n",
    "        BurrBirr += 1\n",
    "        print(\"BurrBirr\")\n",
    "\n",
    "    elif tal%Bi == 0:\n",
    "        Birr += 1         # += lägger till 1 varje gång birr skrivs ut\n",
    "        print(\"birr\")\n",
    "    \n",
    "    elif  tal%Bu == 0:\n",
    "        Burr += 1\n",
    "        print(\"burr\")\n",
    "\n",
    "    else:\n",
    "        print(tal)\n",
    "\n",
    "print(f\"antal Burr: {Burr}, antal Birr: {Birr} och antal: {BurrBirr} \")"
   ]
  },
  {
   "cell_type": "code",
   "execution_count": 11,
   "metadata": {},
   "outputs": [
    {
     "output_type": "error",
     "ename": "IndentationError",
     "evalue": "unindent does not match any outer indentation level (<tokenize>, line 29)",
     "traceback": [
      "\u001b[1;36m  File \u001b[1;32m\"<tokenize>\"\u001b[1;36m, line \u001b[1;32m29\u001b[0m\n\u001b[1;33m    plt.plot(X,Y,\"*-\")\u001b[0m\n\u001b[1;37m    ^\u001b[0m\n\u001b[1;31mIndentationError\u001b[0m\u001b[1;31m:\u001b[0m unindent does not match any outer indentation level\n"
     ]
    }
   ],
   "source": [
    "'uppgift 2 (f)'\n",
    "\n",
    "\n",
    "\"\"\"\n",
    "Ska göra en diagram där varje burr så gåre både x och y positivt och varje gång det blir birr går y negativt och x fortsätter gå positivt. Burrbirr får linjen att vare en konstant alltså att bara x höjs och inte y! Försökte intergrera while satsen för att betydligt bevisa mina kunskaper men saknade ideen\n",
    "\n",
    "\"\"\"\n",
    "\n",
    "\n",
    "\n",
    "import matplotlib.pyplot as plt\n",
    "\n",
    "import numpy as np # numpy = ett bibilitek för stora multidimensionella matriser\n",
    "\n",
    "Bu = int(input(\"siffra mellan 1 & 9 för burr: \"))\n",
    "\n",
    "Bi= int(input(\"siffra mellan 1 & 9 för birr: \"))\n",
    "\n",
    "Start = int(input(\"siffra för att verifiera start: \"))\n",
    "\n",
    "Slut = int(input(\"siffra för att verifiera slut: \"))\n",
    "\n",
    "# X och Y gradens går beronde på vad du matar in startar på Start och sluter på Slut\n",
    "X = [Start,Slut]\n",
    "Y = [Start,Slut]\n",
    "\n",
    "Burr = 0\n",
    "\n",
    "Birr = 0\n",
    "\n",
    "BurrBirr = 0\n",
    "\n",
    "#Varje gång talet är delbart med både Bu och Bi så läggs det till 1 på bara X då linjen blir konstant\n",
    "if tal%Bu == 0 and tal%Bi == 0: \n",
    "        X += 1\n",
    "       plt.plot(X,Y,\"*-\")\n",
    "           \n",
    "\n",
    "#Varje gång talet är delbart med Bi så tars det bort 1 från Y och läggs till 1 på X \n",
    "elif tal%Bi == 0:\n",
    "        Y -= 1 and X += 1\n",
    "     plt.plot(X,Y,\"*-\")\n",
    "     \n",
    "#Varje gång talet är delbart med Bu så läggs det på både 1 på både X och Y \n",
    "elif  tal%Bu == 0:\n",
    "        X,Y += 1\n",
    "       plt.plot(X,Y,\"*-\")\n",
    "\n",
    "#Title och namn på x och y graderna\n",
    "plt.ylabel('Y') \n",
    "plt.xlabel('X')\n",
    "plt.title('burr & birr spelet')\n",
    "\n",
    "plt.show()\n"
   ]
  },
  {
   "cell_type": "code",
   "execution_count": null,
   "metadata": {},
   "outputs": [],
   "source": []
  }
 ]
}