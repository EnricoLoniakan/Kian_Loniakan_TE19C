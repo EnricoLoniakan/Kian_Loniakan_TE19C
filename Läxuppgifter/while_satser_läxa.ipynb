{
 "metadata": {
  "language_info": {
   "codemirror_mode": {
    "name": "ipython",
    "version": 3
   },
   "file_extension": ".py",
   "mimetype": "text/x-python",
   "name": "python",
   "nbconvert_exporter": "python",
   "pygments_lexer": "ipython3",
   "version": "3.8.3-final"
  },
  "orig_nbformat": 2,
  "kernelspec": {
   "name": "python3",
   "display_name": "Python 3"
  }
 },
 "nbformat": 4,
 "nbformat_minor": 2,
 "cells": [
  {
   "cell_type": "code",
   "execution_count": 8,
   "metadata": {
    "tags": []
   },
   "outputs": [
    {
     "output_type": "stream",
     "name": "stdout",
     "text": "1+2+3+...+99+100 = 5050\n"
    }
   ],
   "source": [
    "\n",
    "'''\n",
    "While satser uppgift 1\n",
    "skriv ett program som beräknar följande aritmetiska summa med hjälp av while-sats\n",
    "'''\n",
    "\n",
    "s = 0\n",
    "nummer = 0\n",
    "\n",
    "while s < 100:\n",
    "    s += 1\n",
    "    nummer += s\n",
    "\n",
    "print(f\"1+2+3+...+99+100 = {nummer}\")"
   ]
  },
  {
   "cell_type": "code",
   "execution_count": 10,
   "metadata": {
    "tags": []
   },
   "outputs": [
    {
     "output_type": "stream",
     "name": "stdout",
     "text": "1+3+5+...+99 = 2550\n"
    }
   ],
   "source": [
    "\n",
    "s = 0\n",
    "nummer = 0\n",
    "\n",
    "while s < 99:\n",
    "    s += 2\n",
    "    nummer += s\n",
    "\n",
    "print(f\"1+3+5+...+99 = {nummer}\")\n"
   ]
  },
  {
   "cell_type": "code",
   "execution_count": 35,
   "metadata": {},
   "outputs": [
    {
     "output_type": "error",
     "ename": "ValueError",
     "evalue": "could not convert string to float: ''",
     "traceback": [
      "\u001b[1;31m---------------------------------------------------------------------------\u001b[0m",
      "\u001b[1;31mValueError\u001b[0m                                Traceback (most recent call last)",
      "\u001b[1;32m<ipython-input-35-ba66e32ea514>\u001b[0m in \u001b[0;36m<module>\u001b[1;34m\u001b[0m\n\u001b[0;32m      6\u001b[0m \u001b[1;32mwhile\u001b[0m \u001b[0mgissning\u001b[0m \u001b[1;33m!=\u001b[0m \u001b[0mtal\u001b[0m\u001b[1;33m:\u001b[0m\u001b[1;33m\u001b[0m\u001b[1;33m\u001b[0m\u001b[0m\n\u001b[0;32m      7\u001b[0m     \u001b[0mgissning\u001b[0m \u001b[1;33m=\u001b[0m \u001b[0mtal\u001b[0m \u001b[1;33m-\u001b[0m \u001b[0mgissning\u001b[0m\u001b[1;33m\u001b[0m\u001b[1;33m\u001b[0m\u001b[0m\n\u001b[1;32m----> 8\u001b[1;33m     \u001b[0mgissning\u001b[0m \u001b[1;33m=\u001b[0m \u001b[0mfloat\u001b[0m\u001b[1;33m(\u001b[0m\u001b[0minput\u001b[0m\u001b[1;33m(\u001b[0m\u001b[1;34m\"Gissa igenom: \"\u001b[0m\u001b[1;33m)\u001b[0m\u001b[1;33m)\u001b[0m\u001b[1;33m\u001b[0m\u001b[1;33m\u001b[0m\u001b[0m\n\u001b[0m\u001b[0;32m      9\u001b[0m \u001b[1;33m\u001b[0m\u001b[0m\n\u001b[0;32m     10\u001b[0m \u001b[0mprint\u001b[0m\u001b[1;33m(\u001b[0m\u001b[1;34m\"Rätt svar\"\u001b[0m\u001b[1;33m)\u001b[0m\u001b[1;33m\u001b[0m\u001b[1;33m\u001b[0m\u001b[0m\n",
      "\u001b[1;31mValueError\u001b[0m: could not convert string to float: ''"
     ]
    }
   ],
   "source": [
    "import random as rnd\n",
    "\n",
    "gissning = float(input(\"Gissa ett tal mellan 0 till 100: \"))\n",
    "tal = rnd.randint(0,101)\n",
    "\n",
    "while gissning != tal:\n",
    "    gissning = tal - gissning\n",
    "    gissning = float(input(\"Gissa igenom: \"))\n",
    "     \n",
    "print(\"Rätt svar\")\n"
   ]
  },
  {
   "cell_type": "code",
   "execution_count": 17,
   "metadata": {
    "tags": []
   },
   "outputs": [
    {
     "output_type": "stream",
     "name": "stdout",
     "text": "5 timmar för 11390625.0 bakterier\nDet tar 5 timmar tills mjölken blir sur\n"
    }
   ],
   "source": [
    "\n",
    "'''\n",
    "1L mjölk 1500000 bakterier\n",
    "I rumstemp ökar antalet bakterier med 50% varje timme\n",
    "Mjölk blir sur när bakterierna överstiger 10000000 st\n",
    "Hur många timmar tills mjölken blir sur?\n",
    "'''\n",
    "\n",
    "b = 1500000\n",
    "\n",
    "t = 0\n",
    "\n",
    "while b < 10000000:\n",
    "    b *= 1.5\n",
    "    t += 1\n",
    "\n",
    "print(f\"{t} timmar för {b} bakterier\")\n",
    "\n",
    "print(f\"Det tar {t} timmar tills mjölken blir sur\")\n",
    "\n",
    "\n"
   ]
  },
  {
   "cell_type": "code",
   "execution_count": 23,
   "metadata": {
    "tags": []
   },
   "outputs": [
    {
     "output_type": "stream",
     "name": "stdout",
     "text": "[0]\n[0 1]\n[0 1 2]\n[0 1 2 3]\n[0 1 2 3 4]\n5 timmar för att mjölken skall bri sur\n[1500000.0, 2250000.0, 3375000.0, 5062500.0, 7593750.0, 11390625.0]\n"
    },
    {
     "output_type": "error",
     "ename": "NameError",
     "evalue": "name 'plt' is not defined",
     "traceback": [
      "\u001b[1;31m---------------------------------------------------------------------------\u001b[0m",
      "\u001b[1;31mNameError\u001b[0m                                 Traceback (most recent call last)",
      "\u001b[1;32m<ipython-input-23-b2e67b611f45>\u001b[0m in \u001b[0;36m<module>\u001b[1;34m\u001b[0m\n\u001b[0;32m     21\u001b[0m \u001b[0mprint\u001b[0m\u001b[1;33m(\u001b[0m\u001b[0my_bakterier\u001b[0m\u001b[1;33m)\u001b[0m\u001b[1;33m\u001b[0m\u001b[1;33m\u001b[0m\u001b[0m\n\u001b[0;32m     22\u001b[0m \u001b[1;33m\u001b[0m\u001b[0m\n\u001b[1;32m---> 23\u001b[1;33m \u001b[0mplt\u001b[0m\u001b[1;33m.\u001b[0m\u001b[0mplot\u001b[0m\u001b[1;33m(\u001b[0m\u001b[0mx_timmar\u001b[0m\u001b[1;33m,\u001b[0m \u001b[0my_bakterier\u001b[0m\u001b[1;33m,\u001b[0m\u001b[1;34m\"*-\"\u001b[0m\u001b[1;33m)\u001b[0m\u001b[1;33m\u001b[0m\u001b[1;33m\u001b[0m\u001b[0m\n\u001b[0m\u001b[0;32m     24\u001b[0m \u001b[0mplt\u001b[0m\u001b[1;33m.\u001b[0m\u001b[0mxlabel\u001b[0m\u001b[1;33m(\u001b[0m\u001b[1;34m\"timmar\"\u001b[0m\u001b[1;33m)\u001b[0m\u001b[1;33m\u001b[0m\u001b[1;33m\u001b[0m\u001b[0m\n\u001b[0;32m     25\u001b[0m \u001b[0mplt\u001b[0m\u001b[1;33m.\u001b[0m\u001b[0mylabel\u001b[0m\u001b[1;33m(\u001b[0m\u001b[1;34m\"bakterier\"\u001b[0m\u001b[1;33m)\u001b[0m\u001b[1;33m\u001b[0m\u001b[1;33m\u001b[0m\u001b[0m\n",
      "\u001b[1;31mNameError\u001b[0m: name 'plt' is not defined"
     ]
    }
   ],
   "source": [
    "import matplotlib.pyplot\n",
    "import numpy as np\n",
    "\n",
    "bakterier = 1.5e6  #bakterier\n",
    "surt = 1e7 #surt\n",
    "faktor = 1.5\n",
    "timmar = 0  #timmar\n",
    "\n",
    "y_bakterier = [bakterier] #lista som ska håla allt ihop\n",
    "\n",
    "while bakterier < surt:\n",
    "    bakterier = faktor*bakterier\n",
    "    y_bakterier.append(bakterier) #bakterier läggs in i listan\n",
    "    timmar += 1\n",
    "\n",
    "    x_timmar = np.arange(timmar)\n",
    "\n",
    "    print(x_timmar)\n",
    "\n",
    "print(f\"{timmar} timmar för att mjölken skall bri sur\")\n",
    "print(y_bakterier)\n",
    "\n",
    "plt.plot(x_timmar, y_bakterier,\"*-\")\n",
    "plt.xlabel(\"timmar\")\n",
    "plt.ylabel(\"bakterier\")\n",
    "plt.title(\"bakteriertillväxt i mjölken i rumstemperatur\")"
   ]
  },
  {
   "cell_type": "code",
   "execution_count": null,
   "metadata": {},
   "outputs": [],
   "source": []
  }
 ]
}