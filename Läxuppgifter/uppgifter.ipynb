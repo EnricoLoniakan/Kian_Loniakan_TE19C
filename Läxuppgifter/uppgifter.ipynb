{
 "metadata": {
  "language_info": {
   "codemirror_mode": {
    "name": "ipython",
    "version": 3
   },
   "file_extension": ".py",
   "mimetype": "text/x-python",
   "name": "python",
   "nbconvert_exporter": "python",
   "pygments_lexer": "ipython3",
   "version": "3.8.3-final"
  },
  "orig_nbformat": 2,
  "kernelspec": {
   "name": "python3",
   "display_name": "Python 3"
  }
 },
 "nbformat": 4,
 "nbformat_minor": 2,
 "cells": [
  {
   "cell_type": "code",
   "execution_count": 9,
   "metadata": {
    "tags": []
   },
   "outputs": [
    {
     "output_type": "stream",
     "name": "stdout",
     "text": "5\n17.0\n127\n"
    }
   ],
   "source": [
    "#uppgifter nivå 1\n",
    "#1 a)\n",
    "print(12-7)\n",
    "#1 b)\n",
    "print(24/3 + 9)\n",
    "1# c)\n",
    "print(3*43 - 2)"
   ]
  },
  {
   "cell_type": "code",
   "execution_count": 10,
   "metadata": {
    "tags": []
   },
   "outputs": [
    {
     "output_type": "stream",
     "name": "stdout",
     "text": "Hej! Hur mår du?\n"
    }
   ],
   "source": [
    "#2\n",
    "print(\"Hej! Hur mår du?\")"
   ]
  },
  {
   "cell_type": "markdown",
   "metadata": {},
   "source": [
    "Special uppgift: Tyndkraft\n",
    "\n",
    "* fråga användaren om sin vikt\n",
    "* Beräkna tyndkraften\n",
    "\n",
    "$F = mg$"
   ]
  },
  {
   "cell_type": "code",
   "execution_count": 12,
   "metadata": {
    "tags": []
   },
   "outputs": [
    {
     "output_type": "stream",
     "name": "stdout",
     "text": "Din tyndgkraft är 599.02N\n"
    }
   ],
   "source": [
    "#skapar en variabel g och tildelar det värdet 9.82\n",
    "g = 9.82\n",
    "m = 61\n",
    "\n",
    "F = m*g\n",
    "\n",
    "print(f\"Din tyndgkraft är {F}N\")"
   ]
  },
  {
   "cell_type": "markdown",
   "metadata": {},
   "source": [
    "\n",
    "Special uppgift: Procent\n",
    "\n",
    "* Fråga användaren om ett decimaltal\n",
    "* Omvandla talet till Procent\n"
   ]
  },
  {
   "cell_type": "code",
   "execution_count": 14,
   "metadata": {
    "tags": []
   },
   "outputs": [
    {
     "output_type": "stream",
     "name": "stdout",
     "text": "0.37 = 37%\n"
    }
   ],
   "source": [
    "decimalTal = float(input(\"Ange ett decimaltal: \"))\n",
    "\n",
    "procent = decimalTal*100\n",
    "\n",
    "print(f\"{decimalTal} = {procent:.0f}%\")"
   ]
  },
  {
   "cell_type": "code",
   "execution_count": 16,
   "metadata": {
    "tags": []
   },
   "outputs": [
    {
     "output_type": "stream",
     "name": "stdout",
     "text": "100.0 kelvin är -173.15 celsius\n"
    }
   ],
   "source": [
    "\n",
    "kelvin = float(input(\"Ange temperatur i Kelvin: \"))\n",
    "\n",
    "celsius = round(kelvin - 273.15, 3)\n",
    "\n",
    "print(f\"{kelvin} kelvin är {celsius} celsius\")\n"
   ]
  },
  {
   "cell_type": "code",
   "execution_count": 2,
   "metadata": {
    "tags": []
   },
   "outputs": [
    {
     "output_type": "stream",
     "name": "stdout",
     "text": "20.0 celsius är 293.15 Kelvin\n"
    }
   ],
   "source": [
    "\n",
    "Celsius=float(input(\"Ange temperatur i Celsius: \"))\n",
    "\n",
    "Kelvin = Celsius+273.15\n",
    "\n",
    "print(f\"{Celsius} celsius är {Kelvin} Kelvin\")"
   ]
  },
  {
   "cell_type": "code",
   "execution_count": 1,
   "metadata": {
    "tags": []
   },
   "outputs": [
    {
     "output_type": "stream",
     "name": "stdout",
     "text": "1200Kr\nDet är mer prisvärt med ett månadskort\n"
    }
   ],
   "source": [
    "x = int(input(\"Skriv hur många gånger du åker\"))\n",
    "\n",
    "kr = x*30\n",
    "print(f\"{kr}Kr\")\n",
    "\n",
    "if kr > 775:\n",
    "    print(\"Det är mer prisvärt med ett månadskort\")"
   ]
  },
  {
   "cell_type": "code",
   "execution_count": 18,
   "metadata": {
    "tags": []
   },
   "outputs": [
    {
     "output_type": "stream",
     "name": "stdout",
     "text": "579 är udda tal\n579 är inte delbart med 5\n"
    }
   ],
   "source": [
    "\n",
    "#If-satser jämt eller udda tal , plus om talet är delbart med 5 \n",
    "\n",
    "\n",
    "#num = nummer som ska skrivas\n",
    "\n",
    "#om numret kan divideras på 2 är det jämt annars udda\n",
    "num = int(input(\"Skriv en siffra: \"))\n",
    "if (num % 2) == 0:\n",
    "   print(\"{0} är jämnt tal\".format(num))\n",
    "else:\n",
    "   print(\"{0} är udda tal\".format(num))\n",
    "\n",
    "\n",
    "#Om numret är delbart med 5 annars inte\n",
    "if (num % 5) == 0:\n",
    "    print(\"{0} är delbart med 5\".format(num))\n",
    "else:\n",
    "    print(\"{0} är inte delbart med 5\".format(num))\n",
    "\n"
   ]
  },
  {
   "cell_type": "code",
   "execution_count": 14,
   "metadata": {
    "tags": []
   },
   "outputs": [
    {
     "output_type": "stream",
     "name": "stdout",
     "text": "Numret är negativt\n"
    }
   ],
   "source": [
    "\n",
    "# If-satser positiv eller negativ tal \n",
    "\n",
    "#Anger ett nummer som float\n",
    "try:\n",
    "    nummer = float(input(\"Ange en siffra eller nummer: \"))\n",
    "\n",
    "    # Om numret är större än 0 är det positivt annars negativ\n",
    "    if nummer == 0:\n",
    "        print(\"Numret är 0\")\n",
    "    elif nummer > 0:\n",
    "        print(\"Numret är positivt\")\n",
    "    else:\n",
    "        print(\"Numret är negativt\")\n",
    "\n",
    "except ValueError:\n",
    "    print(\"Ange ett tal\") "
   ]
  },
  {
   "cell_type": "code",
   "execution_count": 29,
   "metadata": {
    "tags": []
   },
   "outputs": [
    {
     "output_type": "error",
     "ename": "SyntaxError",
     "evalue": "invalid syntax (<ipython-input-29-22efc9e730cf>, line 24)",
     "traceback": [
      "\u001b[1;36m  File \u001b[1;32m\"<ipython-input-29-22efc9e730cf>\"\u001b[1;36m, line \u001b[1;32m24\u001b[0m\n\u001b[1;33m    print(f\"Cirkelns area {round(area, 2)}\")break\u001b[0m\n\u001b[1;37m                                            ^\u001b[0m\n\u001b[1;31mSyntaxError\u001b[0m\u001b[1;31m:\u001b[0m invalid syntax\n"
     ]
    }
   ],
   "source": [
    "\n",
    "# If-satser omvandling av en cirkel till omkretsen och arean\n",
    "\n",
    "\n",
    "import math\n",
    "\n",
    "# while true = skapar loop så man slipper klicka på play hela tiden\n",
    "while True:\n",
    "    try:\n",
    "\n",
    "        #Ange radien och beräkna diameter\n",
    "        radie = float(input(\"Skriv cirkelns r (radius): \"))\n",
    "        diameter = radie * 2\n",
    "\n",
    "        # Om radiusen är positiv \n",
    "        if radie <= 0:\n",
    "            print(\"Skriv ett heltal över 0\")\n",
    "\n",
    "        # printar omkrets samt area och loopen breakar\n",
    "        else:\n",
    "            omkrets = diameter * math.pi\n",
    "            area = (radie ** 2) * math.pi\n",
    "\n",
    "            print(f\"Cirkelns omkrets {round(omkrets, 2)}\")\n",
    "            print(f\"Cirkelns area {round(area, 2)}\")\n",
    "            break\n"
   ]
  },
  {
   "cell_type": "code",
   "execution_count": 21,
   "metadata": {
    "tags": []
   },
   "outputs": [
    {
     "output_type": "stream",
     "name": "stdout",
     "text": "Ange tal i sifferform\nAnge tal i sifferform\nAnge tal i sifferform\nAnge tal i sifferform\nAnge tal i sifferform\nAnge tal i sifferform\nAnge tal i sifferform\nAnge tal i sifferform\nAnge tal i sifferform\nDet största talet av de du angav är 4\n"
    }
   ],
   "source": [
    "\n",
    "# If-satser 4 tal jämförs och får ut största talet\n",
    "while True:\n",
    "    try:\n",
    "\n",
    "        # Talen 1 till 4 \n",
    "        tal1 = float(input(\"Skriv tal 1: \"))\n",
    "        tal2 = float(input(\"Skriv tal 2: \"))\n",
    "        tal3 = float(input(\"Skriv tal 3: \"))\n",
    "        tal4 = float(input(\"Skriv tal 4: \"))\n",
    "\n",
    "        #Räcknar ut största talet\n",
    "        maximum = max(tal1, tal2, tal3, tal4)\n",
    "\n",
    "        #Om det största talet är ett heltal så skrivs det ut 0.\n",
    "        if (maximum).is_integer():\n",
    "            print(f\"Det största talet av de du skrev är {int(maximum)}\")\n",
    "\n",
    "        #Om det största talet inte är ett heltal så skrivs det ut vanligt\n",
    "        else:\n",
    "            print(f\"Det största talet av de du skrev är {maximum}\")\n",
    "\n",
    "\n",
    "    except ValueError:\n",
    "        print(\"Skriv tal i sifferform\")\n",
    "        pass\n",
    "    \n",
    "\n",
    "    else:\n",
    "        break"
   ]
  },
  {
   "cell_type": "code",
   "execution_count": null,
   "metadata": {},
   "outputs": [],
   "source": [
    "\n",
    "# If-satser skriv tre vinklar på en triangel och programmet tar reda på vilken vinkel som är rät och vilka som inte är räta\n",
    "\n",
    "\n",
    "#Try = kunna göra exception på errors\n",
    "try:\n",
    "\n",
    "    #Ange vinklarna\n",
    "    vinkel1 = float(input(\"Ange vinkel 1: \"))\n",
    "    vinkel2 = float(input(\"Ange vinkel 2: \"))\n",
    "    vinkel3 = float(input(\"Ange vinkel 3: \"))\n",
    "\n",
    "    #Kollar om vinkelsumman är 180 (dvs en triangel)\n",
    "    vinkelsumma = vinkel1 + vinkel2 + vinkel3\n",
    "\n",
    "    if vinkelsumma != 180:\n",
    "        print(\"Ange tre vinklar som har en summa av 180 grader\")\n",
    "\n",
    "    elif vinkelsumma == 180:\n",
    "\n",
    "        #Kollar om vinklarna är över 0\n",
    "        if vinkel1 <= 0:\n",
    "            print(\"Ange ett positivt tal i vinkel 1\")\n",
    "\n",
    "        elif vinkel2 <= 0:\n",
    "            print(\"Ange ett positivt tal i vinkel 2\")\n",
    "            \n",
    "\n",
    "        elif vinkel3 <= 0:\n",
    "            print(\"Ange ett positivt tal i vinkel 3\")\n",
    "            \n",
    "\n",
    "        #Kollar om vinklarna är under 180\n",
    "        elif vinkel1 >= 180:\n",
    "            print(\"Vinkel 1 kan inte vara större än, eller lika med, 180 grader\")\n",
    "            \n",
    "\n",
    "        elif vinkel2 >= 180:\n",
    "            print(\"Vinkel 2 kan inte vara större än, eller lika med, 180 grader\")\n",
    "            \n",
    "\n",
    "        elif vinkel3 >= 180:\n",
    "            print(\"Vinkel 3 kan inte vara större än, eller lika med, 180 grader\")\n",
    "            \n",
    "\n",
    "\n",
    "        #Kollar om vinklarna är räta\n",
    "        elif vinkel1 == 90:\n",
    "            print(\"Vinkel 1 är en rät vinkel\")\n",
    "            \n",
    "\n",
    "            if vinkel2 > 0 and vinkel1 < 360:\n",
    "                print(\"\\tVinkel 2 är inte en rät vinkel\")\n",
    "                \n",
    "\n",
    "                if vinkel3 > 0 and vinkel1 < 180:\n",
    "                     print(\"\\tVinkel 3 är inte en rät vinkel\")\n",
    "                    \n",
    "\n",
    "        elif vinkel2 == 90:\n",
    "            print(\"Vinkel 2 är en rät vinkel\")\n",
    "            \n",
    "\n",
    "            if vinkel1 > 0 and vinkel1 < 180:\n",
    "                print(\"\\tVinkel 1 är inte en rät vinkel\")\n",
    "                \n",
    "\n",
    "                if vinkel3 > 0 and vinkel1 < 180:\n",
    "                    print(\"\\tVinkel 3 är inte en rät vinkel\")\n",
    "                    \n",
    "\n",
    "        elif vinkel3 == 90:\n",
    "            print(\"Vinkel 3 är en rät vinkel\")\n",
    "            \n",
    "\n",
    "            if vinkel1 > 0 and vinkel1 < 180:\n",
    "                print(\"\\tVinkel 1 är inte en rät vinkel\")\n",
    "                \n",
    "\n",
    "                if vinkel2 > 0 and vinkel1 < 180:\n",
    "                    print(\"\\tVinkel 2 är inte en rät vinkel\")\n",
    "                    \n",
    "\n",
    "\n",
    "\n",
    "        #Kollar om vinklarna är giltiga men ej räta\n",
    "        elif vinkel1 > 0 and vinkel1 < 180:\n",
    "            print(\"Vinkel 1 är inte en rät vinkel\")\n",
    "            \n",
    "\n",
    "            if vinkel2 > 0 and vinkel1 < 180:\n",
    "                print(\"Vinkel 2 är inte en rät vinkel\")\n",
    "                \n",
    "\n",
    "                if vinkel3 > 0 and vinkel1 < 180:\n",
    "                    print(\"Vinkel 3 är inte en rät vinkel\")\n",
    "\n",
    "\n",
    "\n",
    "        elif vinkel2 > 0 and vinkel1 < 180:\n",
    "            print(\"Vinkel 2 är inte en rät vinkel\")\n",
    "\n",
    "            if vinkel3 > 0 and vinkel1 < 180:\n",
    "                print(\"Vinkel 3 är inte en rät vinkel\")\n",
    "\n",
    "       \n",
    "        elif vinkel3 > 0 and vinkel1 < 180:\n",
    "            print(\"Vinkel 3 är inte en rät vinkel\")\n",
    "        \n",
    "\n",
    "#felmeddelande om något annat än ett tal anges\n",
    "except ValueError:\n",
    "    print(\"Ange tal\")"
   ]
  }
 ]
}