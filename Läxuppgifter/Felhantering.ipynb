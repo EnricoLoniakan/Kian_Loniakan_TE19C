{
 "metadata": {
  "language_info": {
   "codemirror_mode": {
    "name": "ipython",
    "version": 3
   },
   "file_extension": ".py",
   "mimetype": "text/x-python",
   "name": "python",
   "nbconvert_exporter": "python",
   "pygments_lexer": "ipython3",
   "version": "3.8.3-final"
  },
  "orig_nbformat": 2,
  "kernelspec": {
   "name": "python3",
   "display_name": "Python 3.8.3 64-bit (conda)",
   "metadata": {
    "interpreter": {
     "hash": "2eaaacd0844922b07587b1fa63901c629c73e072868a7618a4458663e74147c2"
    }
   }
  }
 },
 "nbformat": 4,
 "nbformat_minor": 2,
 "cells": [
  {
   "cell_type": "code",
   "execution_count": 2,
   "metadata": {},
   "outputs": [
    {
     "output_type": "stream",
     "name": "stdout",
     "text": [
      "1.0\n"
     ]
    }
   ],
   "source": [
    "# Uppgift 1 av felhantering\n",
    "\n",
    "import numpy as np #ändrade impor till import då det var stavfel \"syntaxerror\"\n",
    "\n",
    "def distance(x, y):\n",
    "    return np.sqrt(x+y) #ändrade reurn till return då det också var stavfel \"syntaxerror\"\n",
    "\n",
    "print(distance(0.5,0.5)) #få bort list \"[]\" från värderna för man kan inte lägga lista inom paranteser \"syntaxerror\""
   ]
  },
  {
   "cell_type": "code",
   "execution_count": 11,
   "metadata": {},
   "outputs": [
    {
     "output_type": "stream",
     "name": "stdout",
     "text": [
      "100 är inte fyrsiffrigt\n231 är inte fyrsiffrigt\n10000 är inte fyrsiffrigt\n10001 är inte fyrsiffrigt\n-1000 är fyrsiffrigt\n102313 är inte fyrsiffrigt\n"
     ]
    }
   ],
   "source": [
    "# Uppgift 2 av felhantering\n",
    "\n",
    "def ar_fyrsiffrigt(tal):\n",
    "    if tal //1000 < 0 : #ändrar bort 10 till 0 då resultatet kommer upp fel \"syntaxerror\"\n",
    "        return True\n",
    "    else:\n",
    "        return False\n",
    "\n",
    "testtal = [100, 231, 10000, 10001, -1000, 102313]\n",
    "\n",
    "for t in testtal:\n",
    "    if ar_fyrsiffrigt(t):\n",
    "        print(f\"{t} är fyrsiffrigt\")\n",
    "    else:\n",
    "        print(f\"{t} är inte fyrsiffrigt\")\n"
   ]
  },
  {
   "cell_type": "code",
   "execution_count": 9,
   "metadata": {},
   "outputs": [
    {
     "output_type": "stream",
     "name": "stdout",
     "text": [
      "Det är mer värt med månadskort då den kostar 100 och engångspris på alla åkturer kostar 5000\n"
     ]
    }
   ],
   "source": [
    "# Uppgift 3 av felhantering med ändast if och else\n",
    "\n",
    "åktur = int(input(\"mata in antal åkturer med spårvagn\"))    #börjar med att låta användaren ge värde på antal åkturer, månadspris och engångspris\n",
    "\n",
    "månadspris = int(input(\"mata in värde på månadspris för åktur\"))\n",
    "\n",
    "engångspris = int(input(\"mata in värde på engångspris för åktur\"))\n",
    "\n",
    "\n",
    "def pris(engångspris):        #ger en define till pris vilket returnar funktionen som ger svaret på pris på antal åkturer med engångspriset\n",
    "    return åktur*engångspris\n",
    "\n",
    "if åktur*engångspris < månadspris: # om månadspris är högre än funktionen\n",
    "    print(f\"Eftersom att det blir {pris(engångspris)} kr engångspris på {åktur} åkturer så är det mer värt med engångspris istället för månadspris\")\n",
    "\n",
    "else:\n",
    "    print(f\"Det är mer värt med månadskort då den kostar {månadspris} och engångspris på alla åkturer kostar {pris(engångspris)}\")\n",
    "\n"
   ]
  },
  {
   "cell_type": "code",
   "execution_count": 43,
   "metadata": {},
   "outputs": [
    {
     "output_type": "stream",
     "name": "stdout",
     "text": [
      "Det är mer värt med månadskort då den kostar 100 och engångspris på alla åkturer kostar 5000\n"
     ]
    }
   ],
   "source": [
    "#Uppgift 3 av felhantering med try, except och felmeddelanden\n",
    "\n",
    "\n",
    "try: åktur = int(input(\"mata in antal åkturer med spårvagn\")) #börjar med att låta användaren ge värde på antal åkturer, månadspris & engångspris\n",
    "except:\n",
    "    print(\"inputError, du måste använda dig av positiva heltal\") # Om användaren matar in bokstäver eller decimaltal så skickar programmet ett fel meddelande och låter användaren testa ett nytt tal\n",
    "\n",
    "if åktur < 0 : \n",
    "    print(\"inputError, du måste använda dig av positiva heltal\")\n",
    "    åktur = int(input(\"Försök igen! mata in antal åkturer med spårvagn\")) # if sats så att även negativa tal ej är tillåtet\n",
    "\n",
    "\n",
    "\n",
    "try: månadspris = int(input(\"mata in värde på månadspris för åktur\"))\n",
    "except:\n",
    "    print(\"inputError, du måste använda dig av positiva heltal\")\n",
    "\n",
    "if månadspris < 0 : \n",
    "    print(\"inputError, du måste använda dig av positiva heltal\")\n",
    "    månadspris = int(input(\"Försök igen! mata in värde på månadspris för åktur\"))\n",
    "\n",
    "\n",
    "\n",
    "try: engångspris = int(input(\"mata in värde på engångspris för åktur\"))\n",
    "except:\n",
    "    print(\"inputError, du måste använda dig av positiva heltal\")\n",
    "\n",
    "if engångspris < 0 : \n",
    "    print(\"inputError, du måste använda dig av positiva heltal\")\n",
    "    engångspris = int(input(\"Försök igen! mata in värde på engångspris för åktur\"))\n",
    "\n",
    "#skriver try, except och if på varje input så att programmet vet vilket input som skrevs fel\n",
    "\n",
    "\n",
    "\n",
    "def pris(engångspris): \n",
    "    return åktur*engångspris\n",
    "\n",
    "\n",
    "if åktur*engångspris < månadspris: \n",
    "    print(f\"Eftersom att det blir {pris(engångspris)} kr engångspris på {åktur} åkturer så är det mer värt med engångspris istället för månadspris\")\n",
    "\n",
    "else:\n",
    "    print(f\"Det är mer värt med månadskort då den kostar {månadspris} och engångspris på alla åkturer kostar {pris(engångspris)}\")\n",
    "\n"
   ]
  },
  {
   "cell_type": "code",
   "execution_count": null,
   "metadata": {},
   "outputs": [],
   "source": []
  }
 ]
}